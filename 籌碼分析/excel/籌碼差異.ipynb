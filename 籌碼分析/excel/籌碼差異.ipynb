{
 "cells": [
  {
   "cell_type": "code",
   "execution_count": 1,
   "id": "8f02bfde",
   "metadata": {},
   "outputs": [],
   "source": [
    "import pickle\n",
    "with open('../概念股/玩股網概念股.pkl', 'rb') as f:\n",
    "    idMaps = pickle.load(f)\n"
   ]
  },
  {
   "cell_type": "code",
   "execution_count": 2,
   "id": "0ae73a64",
   "metadata": {},
   "outputs": [],
   "source": [
    "import pandas as pd\n",
    "sheetNames = [\"主力買超天數累計\", \"外資買超天數累計\", \"投信買超天數累計\"]\n",
    "df = pd.read_excel(\"source/datas.xlsm\", sheet_name= sheetNames)\n"
   ]
  },
  {
   "cell_type": "code",
   "execution_count": 3,
   "id": "6cc49e59",
   "metadata": {},
   "outputs": [
    {
     "name": "stderr",
     "output_type": "stream",
     "text": [
      "<ipython-input-3-71b92eaf3ff9>:9: FutureWarning: The default value of regex will change from True to False in a future version.\n",
      "  mainForce[\"代碼\"] = mainForce[\"代碼\"].str.replace('.TW', '')\n",
      "<ipython-input-3-71b92eaf3ff9>:10: FutureWarning: The default value of regex will change from True to False in a future version.\n",
      "  foreign[\"代碼\"] = foreign[\"代碼\"].str.replace('.TW', '')\n",
      "<ipython-input-3-71b92eaf3ff9>:11: FutureWarning: The default value of regex will change from True to False in a future version.\n",
      "  credit[\"代碼\"] = credit[\"代碼\"].str.replace('.TW', '')\n"
     ]
    }
   ],
   "source": [
    "basicBuyDays = 0\n",
    "stockDayMap = {}\n",
    "stockIdNameMap = {}\n",
    "\n",
    "mainForce = df[\"主力買超天數累計\"]\n",
    "foreign = df[\"外資買超天數累計\"]\n",
    "credit = df[\"投信買超天數累計\"]\n",
    "\n",
    "mainForce[\"代碼\"] = mainForce[\"代碼\"].str.replace('.TW', '')\n",
    "foreign[\"代碼\"] = foreign[\"代碼\"].str.replace('.TW', '')\n",
    "credit[\"代碼\"] = credit[\"代碼\"].str.replace('.TW', '')\n",
    "\n",
    "\n",
    "\n",
    "\n",
    "for row in mainForce.itertuples():\n",
    "    if row.代碼 not in stockIdNameMap:\n",
    "        stockIdNameMap[row.代碼] = row.商品\n",
    "    if row.代碼 not in stockDayMap:   \n",
    "        stockDayMap[row.代碼] = {\n",
    "            \"mainForce\": 0,\n",
    "            \"foreign\": 0,\n",
    "            \"credit\": 0,\n",
    "        }\n",
    "    stockDayMap[row.代碼][\"mainForce\"] = row.主力買超累計天數\n",
    "        \n",
    "for row in foreign.itertuples():\n",
    "    if row.代碼 not in stockIdNameMap:\n",
    "        stockIdNameMap[row.代碼] = row.商品\n",
    "    if row.代碼 not in stockDayMap:   \n",
    "        stockDayMap[row.代碼] = {\n",
    "            \"mainForce\": 0,\n",
    "            \"foreign\": 0,\n",
    "            \"credit\": 0,\n",
    "        }\n",
    "    stockDayMap[row.代碼][\"foreign\"] = row.外資買超累計天數\n",
    "        \n",
    "for row in credit.itertuples():\n",
    "    if row.代碼 not in stockIdNameMap:\n",
    "        stockIdNameMap[row.代碼] = row.商品\n",
    "    if row.代碼 not in stockDayMap:   \n",
    "        stockDayMap[row.代碼] = {\n",
    "            \"mainForce\": 0,\n",
    "            \"foreign\": 0,\n",
    "            \"credit\": 0,\n",
    "        }\n",
    "    stockDayMap[row.代碼][\"credit\"] = row.投信買超累計天數\n",
    "        \n",
    "a1 = mainForce[mainForce[\"主力買超累計天數\"] > basicBuyDays][\"代碼\"]\n",
    "a2 = foreign[foreign[\"外資買超累計天數\"] > basicBuyDays][\"代碼\"]\n",
    "ids = set(a1).intersection(a2)\n",
    "ids2 = credit[credit[\"投信買超累計天數\"] > basicBuyDays][\"代碼\"]\n"
   ]
  },
  {
   "cell_type": "code",
   "execution_count": 4,
   "id": "620db8dd",
   "metadata": {
    "scrolled": false
   },
   "outputs": [],
   "source": [
    "def getOrder(concept):\n",
    "    if concept.startswith(\"5G\"):\n",
    "        return 0\n",
    "    elif concept.startswith(\"車用\") or \"電池\" in concept:\n",
    "        return 1\n",
    "    elif concept.startswith(\"IC\"):\n",
    "        return 2\n",
    "    elif concept.startswith(\"3D\"):\n",
    "        return 3\n",
    "    elif concept.startswith(\"USB\"):\n",
    "        return 4\n",
    "    elif concept.startswith(\"iPad\") or concept.startswith(\"Apple\"):\n",
    "        return 5\n",
    "    elif concept.startswith(\"AI\"):\n",
    "        return 6\n",
    "    elif concept.startswith(\"無線\"):\n",
    "        return 7\n",
    "    else:\n",
    "        return 999\n",
    "def generate(ids, excelName):\n",
    "    stockNames = []\n",
    "    days = []\n",
    "    markets = []\n",
    "    marketTypes = []\n",
    "    electronics = []\n",
    "    concepts = []\n",
    "    corporations = []\n",
    "    datas = []\n",
    "    for id in ids:\n",
    "        if id in idMaps:\n",
    "            # marketName marketType eletronics concepts corporations   \n",
    "            obj = idMaps[id]\n",
    "            stockNames.append(stockIdNameMap[id])\n",
    "            if \"主力\" in excelName:\n",
    "                days.append(str(stockDayMap[id][\"mainForce\"]) + '-' + str(stockDayMap[id][\"foreign\"]))\n",
    "            else:\n",
    "                days.append(str(stockDayMap[id][\"credit\"]))\n",
    "            markets.append(obj[\"marketName\"])\n",
    "            marketTypes.append(obj[\"marketType\"])\n",
    "            electronics.append(\",\".join(obj[\"eletronics\"]))\n",
    "            obj[\"concepts\"].sort(key = lambda s: getOrder(s))\n",
    "            concepts.append(\",\".join(obj[\"concepts\"]))\n",
    "            corporations.append(\",\".join(obj[\"corporations\"]))\n",
    "\n",
    "    df2 = pd.DataFrame(data= {\n",
    "        \"代碼\": list(ids),\n",
    "        \"名稱\": stockNames,\n",
    "        \"買賣天數\": days,\n",
    "        \"市場\": markets,\n",
    "        \"類股\": marketTypes,\n",
    "        \"電子產業\": electronics,\n",
    "        \"概念股\": concepts,\n",
    "        \"集團股\": corporations,\n",
    "\n",
    "    })\n",
    "    df2 = df2.sort_values(by=['概念股'], ascending= False)\n",
    "    df2.to_excel(excelName, index= False)\n",
    "    \n",
    "generate(ids, \"主力_外資共同買超.xlsx\")\n",
    "generate(ids2, \"投信買賣超.xlsx\")\n",
    "\n",
    "# df.sort_values(by=['概念股'])"
   ]
  },
  {
   "cell_type": "code",
   "execution_count": 19,
   "id": "e1e45279",
   "metadata": {},
   "outputs": [
    {
     "data": {
      "text/plain": [
       "True"
      ]
     },
     "execution_count": 19,
     "metadata": {},
     "output_type": "execute_result"
    }
   ],
   "source": [
    "s = '123'\n",
    "'1' in s"
   ]
  }
 ],
 "metadata": {
  "kernelspec": {
   "display_name": "Python 3",
   "language": "python",
   "name": "python3"
  },
  "language_info": {
   "codemirror_mode": {
    "name": "ipython",
    "version": 3
   },
   "file_extension": ".py",
   "mimetype": "text/x-python",
   "name": "python",
   "nbconvert_exporter": "python",
   "pygments_lexer": "ipython3",
   "version": "3.8.8"
  }
 },
 "nbformat": 4,
 "nbformat_minor": 5
}
